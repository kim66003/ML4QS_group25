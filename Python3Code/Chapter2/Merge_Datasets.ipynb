{
 "cells": [
  {
   "cell_type": "code",
   "execution_count": 3,
   "metadata": {},
   "outputs": [
    {
     "name": "stdout",
     "output_type": "stream",
     "text": [
      "The autoreload extension is already loaded. To reload it, use:\n",
      "  %reload_ext autoreload\n"
     ]
    }
   ],
   "source": [
    "import datetime\n",
    "import CreateDataset as cd\n",
    "import pandas as pd\n",
    "from os import listdir\n",
    "%load_ext autoreload\n",
    "%autoreload 2"
   ]
  },
  {
   "cell_type": "code",
   "execution_count": 6,
   "metadata": {},
   "outputs": [],
   "source": [
    "base_directories = {'walking': '../datasets/Walking_2020-06-04_12-53-11/', \n",
    "                    'running': '../datasets/Running_2020-06-04_12-40-48/', \n",
    "                    'cycling': '../datasets/Cycling_2020-06-03_15-44-48/',\n",
    "                    'sitting': '../datasets/Sitting_2020-06-04_13-28-48/',\n",
    "                    'no_activity': '../datasets/No_Activity_2020-06-04_13-13-43/'}"
   ]
  },
  {
   "cell_type": "code",
   "execution_count": 7,
   "metadata": {},
   "outputs": [
    {
     "name": "stdout",
     "output_type": "stream",
     "text": [
      "['Proximity.csv', 'Gyroscope.csv', 'Accelerometer.csv', 'Pressure.csv', 'Location.csv', 'Magnetometer.csv', 'Linear Acceleration.csv']\n",
      "['Proximity.csv', 'Gyroscope.csv', 'Accelerometer.csv', 'Pressure.csv', 'Location.csv', 'Magnetometer.csv', 'Linear Acceleration.csv']\n",
      "['Proximity.csv', 'Gyroscope.csv', 'Accelerometer.csv', 'Pressure.csv', 'Location.csv', 'Magnetometer.csv', 'Linear Acceleration.csv']\n",
      "['Light.csv', 'Proximity.csv', 'Gyroscope.csv', 'Accelerometer.csv', 'Pressure.csv', 'Location.csv', 'Magnetometer.csv', 'Linear Acceleration.csv']\n",
      "['Proximity.csv', 'Gyroscope.csv', 'Accelerometer.csv', 'Pressure.csv', 'Location.csv', 'Magnetometer.csv', 'Linear Acceleration.csv']\n"
     ]
    }
   ],
   "source": [
    "for key in base_directories:\n",
    "    print(listdir(base_directories[key]))"
   ]
  },
  {
   "cell_type": "code",
   "execution_count": null,
   "metadata": {},
   "outputs": [],
   "source": [
    "walking_accelerometer = pd.read_csv('../datasets/Walking_2020-06-03_15-13-20/Accelerometer.csv')\n"
   ]
  },
  {
   "cell_type": "code",
   "execution_count": null,
   "metadata": {},
   "outputs": [],
   "source": [
    "walking_"
   ]
  },
  {
   "cell_type": "code",
   "execution_count": null,
   "metadata": {},
   "outputs": [],
   "source": [
    "pd.to_datetime(walking_accelerometer['Time (s)'], unit='s')"
   ]
  },
  {
   "cell_type": "code",
   "execution_count": null,
   "metadata": {},
   "outputs": [],
   "source": [
    "accelerometer_columns = walking_accelerometer.columns.tolist()"
   ]
  },
  {
   "cell_type": "code",
   "execution_count": null,
   "metadata": {},
   "outputs": [],
   "source": [
    "event_columns = accelerometer_columns[1:]"
   ]
  },
  {
   "cell_type": "code",
   "execution_count": null,
   "metadata": {},
   "outputs": [],
   "source": [
    "time_column = accelerometer_columns[0]"
   ]
  },
  {
   "cell_type": "code",
   "execution_count": null,
   "metadata": {},
   "outputs": [],
   "source": [
    "dataset_creator = cd.CreateDataset(base_dir='../datasets', granularity=250, data_table=None)"
   ]
  },
  {
   "cell_type": "code",
   "execution_count": null,
   "metadata": {},
   "outputs": [],
   "source": [
    "dataset_creator.add_numerical_dataset('/Walking_2020-06-03_15-13-20/Accelerometer.csv', time_column, event_columns)"
   ]
  },
  {
   "cell_type": "code",
   "execution_count": null,
   "metadata": {},
   "outputs": [],
   "source": [
    "dataset_creator.data_table.loc[~dataset_creator.data_table['Acceleration x (m/s^2)'].isna()]"
   ]
  },
  {
   "cell_type": "code",
   "execution_count": null,
   "metadata": {},
   "outputs": [],
   "source": [
    "dataset_creator.data_table['Acceleration x (m/s^2)'].tolist()"
   ]
  },
  {
   "cell_type": "code",
   "execution_count": null,
   "metadata": {},
   "outputs": [],
   "source": [
    "walking_accelerometer"
   ]
  }
 ],
 "metadata": {
  "kernelspec": {
   "display_name": "Python 3",
   "language": "python",
   "name": "python3"
  },
  "language_info": {
   "codemirror_mode": {
    "name": "ipython",
    "version": 3
   },
   "file_extension": ".py",
   "mimetype": "text/x-python",
   "name": "python",
   "nbconvert_exporter": "python",
   "pygments_lexer": "ipython3",
   "version": "3.7.6"
  }
 },
 "nbformat": 4,
 "nbformat_minor": 4
}
