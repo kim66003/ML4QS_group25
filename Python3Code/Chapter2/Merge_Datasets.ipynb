{
 "cells": [
  {
   "cell_type": "code",
   "execution_count": 1,
   "metadata": {},
   "outputs": [],
   "source": [
    "import datetime\n",
    "import CreateDataset as cd\n",
    "import pandas as pd\n",
    "from os import listdir\n",
    "%load_ext autoreload\n",
    "%autoreload 2"
   ]
  },
  {
   "cell_type": "code",
   "execution_count": 2,
   "metadata": {},
   "outputs": [],
   "source": [
    "base_directories = {'walking': '../datasets/Walking_2020-06-04_12-53-11/', \n",
    "                    'running': '../datasets/Running_2020-06-04_12-40-48/', \n",
    "                    'cycling': '../datasets/Cycling_2020-06-03_15-44-48/',\n",
    "                    'sitting': '../datasets/Sitting_2020-06-04_13-28-48/',\n",
    "                    'no_activity': '../datasets/No_Activity_2020-06-04_13-13-43/'}"
   ]
  },
  {
   "cell_type": "code",
   "execution_count": 9,
   "metadata": {},
   "outputs": [
    {
     "data": {
      "text/plain": [
       "['Proximity.csv',\n",
       " 'Gyroscope.csv',\n",
       " 'Accelerometer.csv',\n",
       " 'Pressure.csv',\n",
       " 'Location.csv',\n",
       " 'Magnetometer.csv',\n",
       " 'Linear Acceleration.csv']"
      ]
     },
     "execution_count": 9,
     "metadata": {},
     "output_type": "execute_result"
    }
   ],
   "source": [
    "sensor_types = listdir(base_directories['walking'])\n",
    "sensor_types"
   ]
  },
  {
   "cell_type": "code",
   "execution_count": 12,
   "metadata": {
    "scrolled": true
   },
   "outputs": [
    {
     "name": "stdout",
     "output_type": "stream",
     "text": [
      "Proximity\n",
      "Gyroscope\n",
      "Accelerometer\n",
      "Pressure\n",
      "Location\n",
      "Magnetometer\n",
      "Linear Acceleration\n"
     ]
    }
   ],
   "source": [
    "time_column = None\n",
    "sensor_columns = {}\n",
    "\n",
    "for sensor in sensor_types:\n",
    "#     pd.read_csv(base_directories['walking'] + sensor)\n",
    "    print(sensor[:-4])\n",
    "    \n",
    "\n",
    "# walking_proximity = pd.read_csv(base_directories['walking'] + sensor_types[0])\n",
    "# walking_gyroscope = pd.read_csv(base_directories['walking'] + sensor_types[1])\n",
    "# walking_accelerometer = pd.read_csv(base_directories['walking'] + sensor_types[2])\n",
    "# walking_pressure = pd.read_csv(base_directories['walking'] + sensor_types[3])\n",
    "# walking_location = pd.read_csv(base_directories['walking'] + sensor_types[4])\n",
    "# walking_magnetometer = pd.read_csv(base_directories['walking'] + sensor_types[5])\n",
    "# walking_linear_acceleration = pd.read_csv(base_directories['walking'] + sensor_types[6])"
   ]
  },
  {
   "cell_type": "code",
   "execution_count": null,
   "metadata": {},
   "outputs": [],
   "source": [
    "walking_proximity"
   ]
  },
  {
   "cell_type": "code",
   "execution_count": null,
   "metadata": {},
   "outputs": [],
   "source": [
    "walking_gyroscope"
   ]
  },
  {
   "cell_type": "code",
   "execution_count": null,
   "metadata": {
    "scrolled": true
   },
   "outputs": [],
   "source": [
    "walking_accelerometer"
   ]
  },
  {
   "cell_type": "code",
   "execution_count": null,
   "metadata": {},
   "outputs": [],
   "source": [
    "walking_pressure"
   ]
  },
  {
   "cell_type": "code",
   "execution_count": null,
   "metadata": {},
   "outputs": [],
   "source": [
    "walking_location"
   ]
  },
  {
   "cell_type": "code",
   "execution_count": null,
   "metadata": {},
   "outputs": [],
   "source": [
    "walking_magnetometer"
   ]
  },
  {
   "cell_type": "code",
   "execution_count": null,
   "metadata": {},
   "outputs": [],
   "source": [
    "walking_linear_acceleration"
   ]
  },
  {
   "cell_type": "code",
   "execution_count": null,
   "metadata": {},
   "outputs": [],
   "source": [
    "pd.to_datetime(walking_accelerometer['Time (s)'], unit='s')"
   ]
  },
  {
   "cell_type": "code",
   "execution_count": 6,
   "metadata": {},
   "outputs": [],
   "source": [
    "accelerometer_columns = walking_accelerometer.columns.tolist()"
   ]
  },
  {
   "cell_type": "code",
   "execution_count": 7,
   "metadata": {},
   "outputs": [
    {
     "data": {
      "text/plain": [
       "['Acceleration x (m/s^2)', 'Acceleration y (m/s^2)', 'Acceleration z (m/s^2)']"
      ]
     },
     "execution_count": 7,
     "metadata": {},
     "output_type": "execute_result"
    }
   ],
   "source": [
    "event_columns = accelerometer_columns[1:]\n",
    "event_columns"
   ]
  },
  {
   "cell_type": "code",
   "execution_count": 8,
   "metadata": {},
   "outputs": [
    {
     "data": {
      "text/plain": [
       "'Time (s)'"
      ]
     },
     "execution_count": 8,
     "metadata": {},
     "output_type": "execute_result"
    }
   ],
   "source": [
    "time_column = accelerometer_columns[0]\n",
    "time_column"
   ]
  },
  {
   "cell_type": "code",
   "execution_count": null,
   "metadata": {},
   "outputs": [],
   "source": [
    "dataset_creator = cd.CreateDataset(base_dir='../datasets', granularity=250, data_table=None)"
   ]
  },
  {
   "cell_type": "code",
   "execution_count": null,
   "metadata": {},
   "outputs": [],
   "source": [
    "dataset_creator.add_numerical_dataset('/Walking_2020-06-03_15-13-20/Accelerometer.csv', time_column, event_columns)"
   ]
  },
  {
   "cell_type": "code",
   "execution_count": null,
   "metadata": {},
   "outputs": [],
   "source": [
    "dataset_creator.data_table.loc[~dataset_creator.data_table['Acceleration x (m/s^2)'].isna()]"
   ]
  },
  {
   "cell_type": "code",
   "execution_count": null,
   "metadata": {},
   "outputs": [],
   "source": [
    "dataset_creator.data_table['Acceleration x (m/s^2)'].tolist()"
   ]
  },
  {
   "cell_type": "code",
   "execution_count": null,
   "metadata": {},
   "outputs": [],
   "source": [
    "walking_accelerometer"
   ]
  }
 ],
 "metadata": {
  "kernelspec": {
   "display_name": "Python 3",
   "language": "python",
   "name": "python3"
  },
  "language_info": {
   "codemirror_mode": {
    "name": "ipython",
    "version": 3
   },
   "file_extension": ".py",
   "mimetype": "text/x-python",
   "name": "python",
   "nbconvert_exporter": "python",
   "pygments_lexer": "ipython3",
   "version": "3.7.6"
  }
 },
 "nbformat": 4,
 "nbformat_minor": 4
}
