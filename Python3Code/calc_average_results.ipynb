{
 "cells": [
  {
   "cell_type": "code",
   "execution_count": 1,
   "metadata": {},
   "outputs": [],
   "source": [
    "import numpy as np"
   ]
  },
  {
   "cell_type": "code",
   "execution_count": 2,
   "metadata": {},
   "outputs": [],
   "source": [
    "random_forest = [[0.9946843234169542, 0.0004965337355239753, 0.9453872932985204, 0.002369991144553714],\n",
    "              [0.9984845658864123, 0.000265623232112328, 0.9666013925152306, 0.0018740573639448531],\n",
    "              [0.9998601137741303, 8.075770112408388e-05, 0.9899369016536119, 0.0010410332659840625],\n",
    "              [0.9997668562902173, 0.00010425288164287312, 0.9896649260226285, 0.0010548625556123447],\n",
    "              [0.9989275389349995, 0.00022350364460257832, 0.9933093994778068, 0.0008502953709682759]]"
   ]
  },
  {
   "cell_type": "code",
   "execution_count": 3,
   "metadata": {},
   "outputs": [],
   "source": [
    "neural_net = [[0.9532546861885667, 0.0014414525921133392, 0.9278720626631853, 0.0026983035074173746],\n",
    "             [0.9825841648792315, 0.0008932723307366984, 0.9581157528285466, 0.0020894372811094265],\n",
    "             [0.9963629581273897, 0.0004110643240824885, 0.9840078328981723, 0.001308422276106835],\n",
    "             [0.9962930150144549, 0.0004149834772461441, 0.9808529155787642, 0.0014293818456838042],\n",
    "             [0.9784342068450993, 0.0009919171077550416, 0.9758485639686685, 0.0016012446260907243]]"
   ]
  },
  {
   "cell_type": "code",
   "execution_count": 4,
   "metadata": {},
   "outputs": [],
   "source": [
    "KNN = [[1.0, 0.0, 0.9284160139251523, 0.0026888974702211294],\n",
    "      [1.0, 0.0, 0.935378590078329, 0.002564347750286643],\n",
    "      [1.0, 0.0, 0.9825935596170583, 0.0013640708627313837],\n",
    "      [1.0, 0.0, 0.9824847693646649, 0.0013682511934770946],\n",
    "      [1.0, 0.0, 0.9886858137510879, 0.0011031531395342428]]"
   ]
  },
  {
   "cell_type": "code",
   "execution_count": 5,
   "metadata": {},
   "outputs": [],
   "source": [
    "DT = [[0.9424135036836706, 0.0015907719604977414, 0.9137293298520452, 0.0029284334623712067],\n",
    "     [0.9621840902732445, 0.001302546424946097, 0.9377719756309835, 0.0025196291480160215],\n",
    "     [0.9972955329665205, 0.00035463339690046207, 0.9806353350739774, 0.001437320945761006],\n",
    "     [0.9972955329665205, 0.00035463339690046207, 0.9812880765883377, 0.0014133589347538273],\n",
    "     [0.9977151916441295, 0.0003260280983737336, 0.9910791993037423, 0.0009807336827515356]]"
   ]
  },
  {
   "cell_type": "code",
   "execution_count": 6,
   "metadata": {},
   "outputs": [],
   "source": [
    "NB = [[0.6577450340389817, 0.003239891878779465, 0.6548085291557877, 0.004958863846314166],\n",
    "     [0.7190152009698778, 0.00306928557323405, 0.7170365535248042, 0.0046981925124959375],\n",
    "     [0.8042991700083931, 0.0027091433972824728, 0.8052654482158399, 0.004130342178920244],\n",
    "     [0.8060710622027417, 0.0026998200837580135, 0.8077676240208878, 0.004110091404031395],\n",
    "     [0.7593956915042432, 0.002918855621632305, 0.7600087032201914, 0.004454531364693938]]"
   ]
  },
  {
   "cell_type": "code",
   "execution_count": 7,
   "metadata": {},
   "outputs": [],
   "source": [
    "neural_net = np.asarray(neural_net, dtype=np.float64)"
   ]
  },
  {
   "cell_type": "code",
   "execution_count": 8,
   "metadata": {},
   "outputs": [],
   "source": [
    "random_forest = np.asarray(random_forest, dtype=np.float64)"
   ]
  },
  {
   "cell_type": "code",
   "execution_count": 9,
   "metadata": {},
   "outputs": [],
   "source": [
    "KNN = np.asarray(KNN, dtype=np.float64)"
   ]
  },
  {
   "cell_type": "code",
   "execution_count": 10,
   "metadata": {},
   "outputs": [],
   "source": [
    "DT = np.asarray(DT, dtype=np.float64)"
   ]
  },
  {
   "cell_type": "code",
   "execution_count": 11,
   "metadata": {},
   "outputs": [],
   "source": [
    "NB = np.asarray(NB, dtype=np.float64)"
   ]
  },
  {
   "cell_type": "code",
   "execution_count": 12,
   "metadata": {},
   "outputs": [
    {
     "data": {
      "text/plain": [
       "array([[9.94684323e-01, 4.96533736e-04, 9.45387293e-01, 2.36999114e-03],\n",
       "       [9.98484566e-01, 2.65623232e-04, 9.66601393e-01, 1.87405736e-03],\n",
       "       [9.99860114e-01, 8.07577011e-05, 9.89936902e-01, 1.04103327e-03],\n",
       "       [9.99766856e-01, 1.04252882e-04, 9.89664926e-01, 1.05486256e-03],\n",
       "       [9.98927539e-01, 2.23503645e-04, 9.93309399e-01, 8.50295371e-04]])"
      ]
     },
     "execution_count": 12,
     "metadata": {},
     "output_type": "execute_result"
    }
   ],
   "source": [
    "random_forest"
   ]
  },
  {
   "cell_type": "code",
   "execution_count": 13,
   "metadata": {},
   "outputs": [
    {
     "data": {
      "text/plain": [
       "array([0.94538729, 0.96660139, 0.9899369 , 0.98966493, 0.9933094 ])"
      ]
     },
     "execution_count": 13,
     "metadata": {},
     "output_type": "execute_result"
    }
   ],
   "source": [
    "random_forest[:, 2]"
   ]
  },
  {
   "cell_type": "code",
   "execution_count": 14,
   "metadata": {},
   "outputs": [],
   "source": [
    "sum_example = 0\n",
    "for num in random_forest[:, 2]:\n",
    "    sum_example += num\n",
    "avg1 = sum_example / len(random_forest[:, 2])"
   ]
  },
  {
   "cell_type": "code",
   "execution_count": 15,
   "metadata": {},
   "outputs": [
    {
     "data": {
      "text/plain": [
       "0.9769799825935597"
      ]
     },
     "execution_count": 15,
     "metadata": {},
     "output_type": "execute_result"
    }
   ],
   "source": [
    "avg1"
   ]
  },
  {
   "cell_type": "code",
   "execution_count": 16,
   "metadata": {},
   "outputs": [
    {
     "data": {
      "text/plain": [
       "array([0.92787206, 0.95811575, 0.98400783, 0.98085292, 0.97584856])"
      ]
     },
     "execution_count": 16,
     "metadata": {},
     "output_type": "execute_result"
    }
   ],
   "source": [
    "neural_net[:, 2]"
   ]
  },
  {
   "cell_type": "code",
   "execution_count": 17,
   "metadata": {},
   "outputs": [],
   "source": [
    "sum_example = 0\n",
    "for num in neural_net[:, 2]:\n",
    "    sum_example += num\n",
    "avg2 = sum_example / len(neural_net[:, 2])"
   ]
  },
  {
   "cell_type": "code",
   "execution_count": 18,
   "metadata": {},
   "outputs": [
    {
     "data": {
      "text/plain": [
       "0.9653394255874673"
      ]
     },
     "execution_count": 18,
     "metadata": {},
     "output_type": "execute_result"
    }
   ],
   "source": [
    "avg2"
   ]
  },
  {
   "cell_type": "code",
   "execution_count": 19,
   "metadata": {},
   "outputs": [
    {
     "data": {
      "text/plain": [
       "array([0.92841601, 0.93537859, 0.98259356, 0.98248477, 0.98868581])"
      ]
     },
     "execution_count": 19,
     "metadata": {},
     "output_type": "execute_result"
    }
   ],
   "source": [
    "KNN[:, 2]"
   ]
  },
  {
   "cell_type": "code",
   "execution_count": 20,
   "metadata": {},
   "outputs": [],
   "source": [
    "sum_example = 0\n",
    "for num in KNN[:, 2]:\n",
    "    sum_example += num\n",
    "avg3 = sum_example / len(KNN[:, 2])"
   ]
  },
  {
   "cell_type": "code",
   "execution_count": 21,
   "metadata": {},
   "outputs": [
    {
     "data": {
      "text/plain": [
       "0.9635117493472585"
      ]
     },
     "execution_count": 21,
     "metadata": {},
     "output_type": "execute_result"
    }
   ],
   "source": [
    "avg3"
   ]
  },
  {
   "cell_type": "code",
   "execution_count": 22,
   "metadata": {},
   "outputs": [
    {
     "data": {
      "text/plain": [
       "array([0.91372933, 0.93777198, 0.98063534, 0.98128808, 0.9910792 ])"
      ]
     },
     "execution_count": 22,
     "metadata": {},
     "output_type": "execute_result"
    }
   ],
   "source": [
    "DT[:, 2]"
   ]
  },
  {
   "cell_type": "code",
   "execution_count": 23,
   "metadata": {},
   "outputs": [],
   "source": [
    "sum_example = 0\n",
    "for num in DT[:, 2]:\n",
    "    sum_example += num\n",
    "avg4 = sum_example / len(DT[:, 2])"
   ]
  },
  {
   "cell_type": "code",
   "execution_count": 24,
   "metadata": {},
   "outputs": [
    {
     "data": {
      "text/plain": [
       "0.9609007832898172"
      ]
     },
     "execution_count": 24,
     "metadata": {},
     "output_type": "execute_result"
    }
   ],
   "source": [
    "avg4"
   ]
  },
  {
   "cell_type": "code",
   "execution_count": 25,
   "metadata": {},
   "outputs": [
    {
     "data": {
      "text/plain": [
       "array([0.65480853, 0.71703655, 0.80526545, 0.80776762, 0.7600087 ])"
      ]
     },
     "execution_count": 25,
     "metadata": {},
     "output_type": "execute_result"
    }
   ],
   "source": [
    "NB[:, 2]"
   ]
  },
  {
   "cell_type": "code",
   "execution_count": 26,
   "metadata": {},
   "outputs": [],
   "source": [
    "sum_example = 0\n",
    "for num in NB[:, 2]:\n",
    "    sum_example += num\n",
    "avg5 = sum_example / len(NB[:, 2])"
   ]
  },
  {
   "cell_type": "code",
   "execution_count": 27,
   "metadata": {},
   "outputs": [
    {
     "data": {
      "text/plain": [
       "0.7489773716275021"
      ]
     },
     "execution_count": 27,
     "metadata": {},
     "output_type": "execute_result"
    }
   ],
   "source": [
    "avg5"
   ]
  },
  {
   "cell_type": "code",
   "execution_count": 31,
   "metadata": {},
   "outputs": [],
   "source": [
    "sum_avg = avg1 + avg2 + avg3 + avg4 + avg5\n",
    "avg_avg = sum_avg / 5"
   ]
  },
  {
   "cell_type": "code",
   "execution_count": 32,
   "metadata": {},
   "outputs": [
    {
     "data": {
      "text/plain": [
       "0.9231418624891209"
      ]
     },
     "execution_count": 32,
     "metadata": {},
     "output_type": "execute_result"
    }
   ],
   "source": [
    "avg_avg"
   ]
  }
 ],
 "metadata": {
  "kernelspec": {
   "display_name": "Python 3",
   "language": "python",
   "name": "python3"
  },
  "language_info": {
   "codemirror_mode": {
    "name": "ipython",
    "version": 3
   },
   "file_extension": ".py",
   "mimetype": "text/x-python",
   "name": "python",
   "nbconvert_exporter": "python",
   "pygments_lexer": "ipython3",
   "version": "3.7.6"
  }
 },
 "nbformat": 4,
 "nbformat_minor": 4
}
